{
 "cells": [
  {
   "cell_type": "code",
   "execution_count": null,
   "metadata": {
    "_cell_guid": "b1076dfc-b9ad-4769-8c92-a6c4dae69d19",
    "_uuid": "8f2839f25d086af736a60e9eeb907d3b93b6e0e5",
    "execution": {
     "iopub.execute_input": "2023-06-06T05:47:55.861742Z",
     "iopub.status.busy": "2023-06-06T05:47:55.861157Z",
     "iopub.status.idle": "2023-06-06T05:47:55.896151Z",
     "shell.execute_reply": "2023-06-06T05:47:55.894832Z",
     "shell.execute_reply.started": "2023-06-06T05:47:55.861709Z"
    },
    "trusted": true
   },
   "outputs": [],
   "source": [
    "# This Python 3 environment comes with many helpful analytics libraries installed\n",
    "# It is defined by the kaggle/python Docker image: https://github.com/kaggle/docker-python\n",
    "# For example, here's several helpful packages to load\n",
    "\n",
    "import numpy as np # linear algebra\n",
    "import pandas as pd # data processing, CSV file I/O (e.g. pd.read_csv)\n",
    "\n",
    "# Input data files are available in the read-only \"../input/\" directory\n",
    "# For example, running this (by clicking run or pressing Shift+Enter) will list all files under the input directory\n",
    "\n",
    "# import os\n",
    "# for dirname, _, filenames in os.walk('/kaggle/input'):\n",
    "#     for filename in filenames:\n",
    "#         print(os.path.join(dirname, filename))\n",
    "\n",
    "# You can write up to 20GB to the current directory (/kaggle/working/) that gets preserved as output when you create a version using \"Save & Run All\" \n",
    "# You can also write temporary files to /kaggle/temp/, but they won't be saved outside of the current session"
   ]
  },
  {
   "cell_type": "markdown",
   "metadata": {},
   "source": [
    "**PranshuSama**"
   ]
  },
  {
   "cell_type": "code",
   "execution_count": null,
   "metadata": {},
   "outputs": [],
   "source": []
  },
  {
   "cell_type": "code",
   "execution_count": null,
   "metadata": {
    "execution": {
     "iopub.execute_input": "2023-06-06T05:47:55.902250Z",
     "iopub.status.busy": "2023-06-06T05:47:55.901514Z",
     "iopub.status.idle": "2023-06-06T05:47:55.977076Z",
     "shell.execute_reply": "2023-06-06T05:47:55.976238Z",
     "shell.execute_reply.started": "2023-06-06T05:47:55.902213Z"
    },
    "trusted": true
   },
   "outputs": [],
   "source": [
    "from tqdm import tqdm\n",
    "tqdm.pandas()\n",
    "train_df = pd.read_csv(\"/kaggle/input/boundary-box-data/dataset/train.csv\")"
   ]
  },
  {
   "cell_type": "code",
   "execution_count": null,
   "metadata": {
    "execution": {
     "iopub.execute_input": "2023-06-06T05:47:55.980246Z",
     "iopub.status.busy": "2023-06-06T05:47:55.979757Z",
     "iopub.status.idle": "2023-06-06T05:48:15.078738Z",
     "shell.execute_reply": "2023-06-06T05:48:15.077675Z",
     "shell.execute_reply.started": "2023-06-06T05:47:55.980201Z"
    },
    "trusted": true
   },
   "outputs": [],
   "source": [
    "train_df_updated = train_df.copy()\n",
    "def update_range(row):\n",
    "    xmax = row['xmax']\n",
    "    xmin = row['xmin']\n",
    "    ymax = row['ymax']\n",
    "    ymin = row['ymin']\n",
    "    row['xmax'] = xmax*2\n",
    "    row['xmin'] = xmin*2\n",
    "    row['ymax'] = ymax*2\n",
    "    row['ymin'] = ymin*2\n",
    "    xmax = row['xmax']\n",
    "    xmin = row['xmin']\n",
    "    ymax = row['ymax']\n",
    "    ymin = row['ymin']\n",
    "    if (xmax>1920):\n",
    "        row['xmax'] = 1920\n",
    "    if (xmin<0):\n",
    "        row['xmin'] = 0\n",
    "    if (ymax>1080):\n",
    "        row['ymax'] = 1080\n",
    "    if (ymin<0):\n",
    "        row['ymin'] = 0\n",
    "    row['bbox'] = [row['xmin'],row['xmax'],row['ymin'],row['ymax']]\n",
    "    return row\n",
    "train_df_updated = train_df_updated.progress_apply(update_range,axis=1)\n",
    "train_df2 = train_df_updated.copy()\n",
    "train_df2 = train_df2.groupby(['image_path','class'])['bbox'].apply(list).reset_index(name='bboxes')\n",
    "train_df2    "
   ]
  },
  {
   "cell_type": "code",
   "execution_count": null,
   "metadata": {
    "execution": {
     "iopub.execute_input": "2023-06-06T05:48:15.080580Z",
     "iopub.status.busy": "2023-06-06T05:48:15.080208Z",
     "iopub.status.idle": "2023-06-06T05:48:15.680177Z",
     "shell.execute_reply": "2023-06-06T05:48:15.679061Z",
     "shell.execute_reply.started": "2023-06-06T05:48:15.080547Z"
    },
    "trusted": true
   },
   "outputs": [],
   "source": [
    "from sklearn.model_selection import train_test_split\n",
    "df_train,df_valid = train_test_split(train_df2,test_size=0.1,random_state=42,shuffle=True)\n",
    "df_train = df_train.reset_index(drop=True)\n",
    "df_valid = df_valid.reset_index(drop=True)"
   ]
  },
  {
   "cell_type": "code",
   "execution_count": null,
   "metadata": {
    "execution": {
     "iopub.execute_input": "2023-06-06T05:48:15.683126Z",
     "iopub.status.busy": "2023-06-06T05:48:15.682777Z",
     "iopub.status.idle": "2023-06-06T05:48:24.454235Z",
     "shell.execute_reply": "2023-06-06T05:48:24.452613Z",
     "shell.execute_reply.started": "2023-06-06T05:48:15.683094Z"
    },
    "trusted": true
   },
   "outputs": [],
   "source": [
    "!mkdir /kaggle/working/Theme1_new_data/\n",
    "!mkdir /kaggle/working/Theme1_new_data/images/\n",
    "!mkdir /kaggle/working/Theme1_new_data/labels/\n",
    "!mkdir /kaggle/working/Theme1_new_data/images/train/\n",
    "!mkdir /kaggle/working/Theme1_new_data/images/validation/\n",
    "!mkdir /kaggle/working/Theme1_new_data/labels/train/\n",
    "!mkdir /kaggle/working/Theme1_new_data/labels/validation/\n",
    "!mkdir /kaggle/working/Theme1_new_data/images/test/"
   ]
  },
  {
   "cell_type": "code",
   "execution_count": null,
   "metadata": {
    "execution": {
     "iopub.execute_input": "2023-06-06T05:48:24.456443Z",
     "iopub.status.busy": "2023-06-06T05:48:24.456058Z",
     "iopub.status.idle": "2023-06-06T05:48:24.465681Z",
     "shell.execute_reply": "2023-06-06T05:48:24.464610Z",
     "shell.execute_reply.started": "2023-06-06T05:48:24.456408Z"
    },
    "trusted": true
   },
   "outputs": [],
   "source": [
    "output_path = \"/kaggle/working/Theme1_new_data\"\n",
    "import os\n",
    "os.listdir(output_path)"
   ]
  },
  {
   "cell_type": "code",
   "execution_count": null,
   "metadata": {
    "execution": {
     "iopub.execute_input": "2023-06-06T05:48:24.467208Z",
     "iopub.status.busy": "2023-06-06T05:48:24.466873Z",
     "iopub.status.idle": "2023-06-06T05:48:24.490540Z",
     "shell.execute_reply": "2023-06-06T05:48:24.489138Z",
     "shell.execute_reply.started": "2023-06-06T05:48:24.467180Z"
    },
    "trusted": true
   },
   "outputs": [],
   "source": [
    "df_train.head()"
   ]
  },
  {
   "cell_type": "code",
   "execution_count": null,
   "metadata": {
    "execution": {
     "iopub.execute_input": "2023-06-06T05:48:24.492336Z",
     "iopub.status.busy": "2023-06-06T05:48:24.491938Z",
     "iopub.status.idle": "2023-06-06T05:48:24.503316Z",
     "shell.execute_reply": "2023-06-06T05:48:24.502039Z",
     "shell.execute_reply.started": "2023-06-06T05:48:24.492297Z"
    },
    "trusted": true
   },
   "outputs": [],
   "source": [
    "df_train.bboxes[0]"
   ]
  },
  {
   "cell_type": "code",
   "execution_count": null,
   "metadata": {
    "execution": {
     "iopub.execute_input": "2023-06-06T05:48:24.505241Z",
     "iopub.status.busy": "2023-06-06T05:48:24.504851Z",
     "iopub.status.idle": "2023-06-06T05:48:25.102898Z",
     "shell.execute_reply": "2023-06-06T05:48:25.101719Z",
     "shell.execute_reply.started": "2023-06-06T05:48:24.505211Z"
    },
    "trusted": true
   },
   "outputs": [],
   "source": [
    "from PIL import Image\n",
    "import numpy as np\n",
    "import matplotlib.pyplot as plt\n",
    "\n",
    "show_img_path = '/kaggle/input/boundary-box-data/dataset/images/'+df_train.image_path[1]\n",
    "\n",
    "# Load the image using PIL\n",
    "image = Image.open(show_img_path)\n",
    "\n",
    "# Convert the image to a numpy array\n",
    "image_array = np.array(image)\n",
    "\n",
    "# Display the image\n",
    "plt.imshow(image_array)\n",
    "plt.axis('off')  # Remove the axis labels\n",
    "plt.show()\n"
   ]
  },
  {
   "cell_type": "code",
   "execution_count": null,
   "metadata": {
    "execution": {
     "iopub.execute_input": "2023-06-06T05:48:25.105899Z",
     "iopub.status.busy": "2023-06-06T05:48:25.104472Z",
     "iopub.status.idle": "2023-06-06T05:48:25.113982Z",
     "shell.execute_reply": "2023-06-06T05:48:25.112768Z",
     "shell.execute_reply.started": "2023-06-06T05:48:25.105849Z"
    },
    "trusted": true
   },
   "outputs": [],
   "source": [
    "from PIL import Image, ImageDraw\n",
    "import matplotlib.pyplot as plt\n",
    "\n"
   ]
  },
  {
   "cell_type": "code",
   "execution_count": null,
   "metadata": {
    "execution": {
     "iopub.execute_input": "2023-06-06T05:48:25.121197Z",
     "iopub.status.busy": "2023-06-06T05:48:25.120407Z",
     "iopub.status.idle": "2023-06-06T05:48:25.621027Z",
     "shell.execute_reply": "2023-06-06T05:48:25.619968Z",
     "shell.execute_reply.started": "2023-06-06T05:48:25.121151Z"
    },
    "trusted": true
   },
   "outputs": [],
   "source": [
    "from PIL import Image, ImageDraw\n",
    "import matplotlib.pyplot as plt\n",
    "\n",
    "# Load the image using PIL\n",
    "show_img_path = '/kaggle/input/boundary-box-data/dataset/images/'+ df_train.image_path[0]\n",
    "image = Image.open(show_img_path)\n",
    "\n",
    "# Retrieve the bounding box coordinates from the DataFrame column\n",
    "bounding_boxes = df_train.bboxes[0]  # Assuming the bounding box data is in the first row of the column\n",
    "\n",
    "# Draw the bounding boxes on the image\n",
    "draw = ImageDraw.Draw(image)\n",
    "\n",
    "for bbox in bounding_boxes:\n",
    "    x0, y0, x1, y1 = bbox  # Assuming the bounding box coordinates are in [x0, y0, x1, y1] format\n",
    "    x_min, y_min = min(x0, x1), min(y0, y1)\n",
    "    x_max, y_max = max(x0, x1), max(y0, y1)\n",
    "    draw.rectangle([(x_min, y_min), (x_max, y_max)], outline='red', width=5)\n",
    "\n",
    "# Display the image with the bounding boxes\n",
    "plt.imshow(image)\n",
    "plt.axis('off')  # Remove the axis labels\n",
    "plt.show()\n"
   ]
  },
  {
   "cell_type": "code",
   "execution_count": null,
   "metadata": {
    "execution": {
     "iopub.execute_input": "2023-06-06T05:48:25.623811Z",
     "iopub.status.busy": "2023-06-06T05:48:25.622956Z",
     "iopub.status.idle": "2023-06-06T05:48:25.637324Z",
     "shell.execute_reply": "2023-06-06T05:48:25.636336Z",
     "shell.execute_reply.started": "2023-06-06T05:48:25.623768Z"
    },
    "trusted": true
   },
   "outputs": [],
   "source": [
    "import shutil\n",
    "import numpy as np\n",
    "data_path = \"/kaggle/input/boundary-box-data/dataset/images\"\n",
    "def process_data(data,data_type=\"train\"):\n",
    "    for i,row in tqdm(data.iterrows(),total=len(data)):\n",
    "        image_name = row['image_path'][:-4]\n",
    "        bounding_boxes = row['bboxes']\n",
    "        classs = row['class']\n",
    "        yolo_data=[]\n",
    "        for bbox in bounding_boxes:\n",
    "            xmin = bbox[0]\n",
    "            xmax = bbox[1]\n",
    "            ymin = bbox[2]\n",
    "            ymax = bbox[3]\n",
    "            width = (xmax-xmin)\n",
    "            height = (ymax-ymin)\n",
    "            x_center = xmin+width/2\n",
    "            y_center = ymin+height/2\n",
    "            x_center /= 1920.0\n",
    "            y_center /= 1080.0\n",
    "            width/=1920.0\n",
    "            height/=1080.0\n",
    "            yolo_data.append([classs,x_center,y_center,width,height])\n",
    "        yolo_data = np.array(yolo_data)\n",
    "        np.savetxt(os.path.join(output_path,f\"labels/{data_type}/{image_name}.txt\"),yolo_data,fmt=[\"%d\",\"%f\",\"%f\",\"%f\",\"%f\"])\n",
    "        shutil.copyfile(os.path.join(data_path,f\"{image_name}.jpg\"),os.path.join(output_path,f\"images/{data_type}/{image_name}.jpg\"))\n"
   ]
  },
  {
   "cell_type": "code",
   "execution_count": null,
   "metadata": {
    "execution": {
     "iopub.execute_input": "2023-06-06T05:48:25.639164Z",
     "iopub.status.busy": "2023-06-06T05:48:25.638785Z",
     "iopub.status.idle": "2023-06-06T05:49:34.433105Z",
     "shell.execute_reply": "2023-06-06T05:49:34.432008Z",
     "shell.execute_reply.started": "2023-06-06T05:48:25.639136Z"
    },
    "trusted": true
   },
   "outputs": [],
   "source": [
    "process_data(df_train,data_type=\"train\")"
   ]
  },
  {
   "cell_type": "code",
   "execution_count": null,
   "metadata": {
    "execution": {
     "iopub.execute_input": "2023-06-06T05:49:34.434975Z",
     "iopub.status.busy": "2023-06-06T05:49:34.434575Z",
     "iopub.status.idle": "2023-06-06T05:49:40.921909Z",
     "shell.execute_reply": "2023-06-06T05:49:40.920460Z",
     "shell.execute_reply.started": "2023-06-06T05:49:34.434944Z"
    },
    "trusted": true
   },
   "outputs": [],
   "source": [
    "process_data(df_valid,data_type=\"validation\")"
   ]
  },
  {
   "cell_type": "code",
   "execution_count": null,
   "metadata": {
    "execution": {
     "iopub.execute_input": "2023-06-06T05:49:40.923800Z",
     "iopub.status.busy": "2023-06-06T05:49:40.923398Z",
     "iopub.status.idle": "2023-06-06T05:49:40.941155Z",
     "shell.execute_reply": "2023-06-06T05:49:40.940027Z",
     "shell.execute_reply.started": "2023-06-06T05:49:40.923767Z"
    },
    "trusted": true
   },
   "outputs": [],
   "source": [
    "test_df = pd.read_csv(\"/kaggle/input/boundary-box-data/dataset/test.csv\")\n",
    "test_df.head()"
   ]
  },
  {
   "cell_type": "code",
   "execution_count": null,
   "metadata": {
    "execution": {
     "iopub.execute_input": "2023-06-06T05:49:40.945093Z",
     "iopub.status.busy": "2023-06-06T05:49:40.944141Z",
     "iopub.status.idle": "2023-06-06T05:49:57.787185Z",
     "shell.execute_reply": "2023-06-06T05:49:57.785988Z",
     "shell.execute_reply.started": "2023-06-06T05:49:40.945060Z"
    },
    "trusted": true
   },
   "outputs": [],
   "source": [
    "import shutil\n",
    "import numpy as np\n",
    "data_path = \"/kaggle/input/boundary-box-data/dataset/images\"\n",
    "def process_test_data(data):\n",
    "    for i,row in tqdm(data.iterrows(),total=len(data)):\n",
    "        image_name = row['image_path'][:-4]\n",
    "        shutil.copyfile(os.path.join(data_path,f\"{image_name}.jpg\"),os.path.join(output_path,f\"images/test/{image_name}.jpg\"))\n",
    "process_test_data(test_df)"
   ]
  },
  {
   "cell_type": "code",
   "execution_count": null,
   "metadata": {
    "execution": {
     "iopub.execute_input": "2023-06-06T05:49:57.789153Z",
     "iopub.status.busy": "2023-06-06T05:49:57.788560Z",
     "iopub.status.idle": "2023-06-06T05:49:57.811767Z",
     "shell.execute_reply": "2023-06-06T05:49:57.810449Z",
     "shell.execute_reply.started": "2023-06-06T05:49:57.789094Z"
    },
    "trusted": true
   },
   "outputs": [],
   "source": [
    "train_df.head(10)"
   ]
  },
  {
   "cell_type": "markdown",
   "metadata": {},
   "source": [
    "**LETS VISUALIZE PITHOLES AND OBJECTS ON ROAD**"
   ]
  },
  {
   "cell_type": "code",
   "execution_count": null,
   "metadata": {
    "execution": {
     "iopub.execute_input": "2023-06-06T05:49:57.813497Z",
     "iopub.status.busy": "2023-06-06T05:49:57.813152Z",
     "iopub.status.idle": "2023-06-06T05:49:57.921907Z",
     "shell.execute_reply": "2023-06-06T05:49:57.920582Z",
     "shell.execute_reply.started": "2023-06-06T05:49:57.813468Z"
    },
    "trusted": true
   },
   "outputs": [],
   "source": [
    "train_df['bbox'] = train_df['xmax'].astype(str) + ','+ train_df['xmin'].astype(str)+','+train_df['ymax'].astype(str) +','+train_df['ymin'].astype(str)\n",
    "train_df.head(10)"
   ]
  },
  {
   "cell_type": "code",
   "execution_count": null,
   "metadata": {
    "execution": {
     "iopub.execute_input": "2023-06-06T05:49:57.924648Z",
     "iopub.status.busy": "2023-06-06T05:49:57.923542Z",
     "iopub.status.idle": "2023-06-06T05:49:57.940026Z",
     "shell.execute_reply": "2023-06-06T05:49:57.938868Z",
     "shell.execute_reply.started": "2023-06-06T05:49:57.924597Z"
    },
    "trusted": true
   },
   "outputs": [],
   "source": [
    "train_df['bbox_list'] = train_df['bbox'].apply(lambda x: [x])\n"
   ]
  },
  {
   "cell_type": "code",
   "execution_count": null,
   "metadata": {
    "execution": {
     "iopub.execute_input": "2023-06-06T05:49:57.942398Z",
     "iopub.status.busy": "2023-06-06T05:49:57.941771Z",
     "iopub.status.idle": "2023-06-06T05:49:57.968958Z",
     "shell.execute_reply": "2023-06-06T05:49:57.968036Z",
     "shell.execute_reply.started": "2023-06-06T05:49:57.942363Z"
    },
    "trusted": true
   },
   "outputs": [],
   "source": [
    "train_df.head()"
   ]
  },
  {
   "cell_type": "code",
   "execution_count": null,
   "metadata": {
    "execution": {
     "iopub.execute_input": "2023-06-06T05:49:57.971231Z",
     "iopub.status.busy": "2023-06-06T05:49:57.970171Z",
     "iopub.status.idle": "2023-06-06T05:49:57.985412Z",
     "shell.execute_reply": "2023-06-06T05:49:57.984118Z",
     "shell.execute_reply.started": "2023-06-06T05:49:57.971196Z"
    },
    "trusted": true
   },
   "outputs": [],
   "source": [
    "train_df.bbox[0]"
   ]
  },
  {
   "cell_type": "code",
   "execution_count": null,
   "metadata": {
    "execution": {
     "iopub.execute_input": "2023-06-06T05:49:57.987751Z",
     "iopub.status.busy": "2023-06-06T05:49:57.987224Z",
     "iopub.status.idle": "2023-06-06T05:49:58.495997Z",
     "shell.execute_reply": "2023-06-06T05:49:58.494712Z",
     "shell.execute_reply.started": "2023-06-06T05:49:57.987705Z"
    },
    "trusted": true
   },
   "outputs": [],
   "source": [
    "from PIL import Image, ImageDraw\n",
    "import matplotlib.pyplot as plt\n",
    "\n",
    "# Load the image using PIL\n",
    "show_img_path = train_df.image_path[0]\n",
    "show_img_path = '/kaggle/input/boundary-box-data/dataset/images/'+ train_df.image_path[0]\n",
    "image = Image.open(show_img_path)\n",
    "image = Image.open(show_img_path)\n",
    "\n",
    "# Retrieve the bounding box coordinates from the DataFrame column\n",
    "bounding_boxes =df_train.bboxes[0] \n",
    "font_size = 1000 # Assuming the bounding box data is in the first row of the column\n",
    "label = train_df.name[9]\n",
    "# Draw the bounding boxes on the image\n",
    "draw = ImageDraw.Draw(image)\n",
    "for bbox in bounding_boxes:\n",
    "    x0, y0, x1, y1 = bbox  # Assuming the bounding box coordinates are in [x0, y0, x1, y1] format\n",
    "    x_min, y_min = min(x0, x1), min(y0, y1)\n",
    "    x_max, y_max = max(x0, x1), max(y0, y1)\n",
    "    draw.rectangle([(x_min, y_min), (x_max, y_max)], outline='red', width=5)\n",
    "    draw.text((x_min, y_min), label, fill='black', font_size=font_size)\n",
    "\n",
    "\n",
    "# Display the image with the bounding boxes\n",
    "plt.imshow(image)\n",
    "plt.axis('off')  # Remove the axis labels\n",
    "plt.show()"
   ]
  },
  {
   "cell_type": "code",
   "execution_count": null,
   "metadata": {
    "execution": {
     "iopub.execute_input": "2023-06-06T05:49:58.498061Z",
     "iopub.status.busy": "2023-06-06T05:49:58.497250Z",
     "iopub.status.idle": "2023-06-06T05:49:58.503318Z",
     "shell.execute_reply": "2023-06-06T05:49:58.501939Z",
     "shell.execute_reply.started": "2023-06-06T05:49:58.498028Z"
    },
    "trusted": true
   },
   "outputs": [],
   "source": [
    "import ast"
   ]
  },
  {
   "cell_type": "code",
   "execution_count": null,
   "metadata": {
    "execution": {
     "iopub.execute_input": "2023-06-06T05:49:58.505725Z",
     "iopub.status.busy": "2023-06-06T05:49:58.504876Z",
     "iopub.status.idle": "2023-06-06T05:49:58.836015Z",
     "shell.execute_reply": "2023-06-06T05:49:58.834788Z",
     "shell.execute_reply.started": "2023-06-06T05:49:58.505677Z"
    },
    "trusted": true
   },
   "outputs": [],
   "source": [
    "train_df.bbox = train_df.bbox.apply(ast.literal_eval)"
   ]
  },
  {
   "cell_type": "code",
   "execution_count": null,
   "metadata": {
    "execution": {
     "iopub.execute_input": "2023-06-06T05:50:14.566040Z",
     "iopub.status.busy": "2023-06-06T05:50:14.565618Z",
     "iopub.status.idle": "2023-06-06T05:50:14.574870Z",
     "shell.execute_reply": "2023-06-06T05:50:14.573604Z",
     "shell.execute_reply.started": "2023-06-06T05:50:14.566006Z"
    },
    "trusted": true
   },
   "outputs": [],
   "source": [
    "smart_yaml = { \"train\" : '/kaggle/working/Theme1_new_data/images/train',\"val\" : '/kaggle/working/Theme1_new_data/images/validation',\"nc\":11,\"names\": [\"GRAFFITI\",\"FADED SIGNAGE\",\"POTHOLES\",\"GARBAGE\",\"CONSTRUCTION ROAD\",\"BROKEN_SIGNAGE\",\"BAD STREETLIGHT\",\"BAD BILLBOARD\",\"SAND ON ROAD\",\"CLUTTER_SIDEWALK\",\"UNKEPT_FACADE\"]}\n",
    "smart_yaml"
   ]
  },
  {
   "cell_type": "code",
   "execution_count": null,
   "metadata": {
    "execution": {
     "iopub.execute_input": "2023-06-06T05:50:15.658228Z",
     "iopub.status.busy": "2023-06-06T05:50:15.657791Z",
     "iopub.status.idle": "2023-06-06T05:50:16.805613Z",
     "shell.execute_reply": "2023-06-06T05:50:16.804478Z",
     "shell.execute_reply.started": "2023-06-06T05:50:15.658192Z"
    },
    "trusted": true
   },
   "outputs": [],
   "source": [
    "os.chdir('/kaggle/working')\n",
    "!pwd"
   ]
  },
  {
   "cell_type": "code",
   "execution_count": null,
   "metadata": {
    "execution": {
     "iopub.execute_input": "2023-06-06T05:50:17.063433Z",
     "iopub.status.busy": "2023-06-06T05:50:17.062586Z",
     "iopub.status.idle": "2023-06-06T05:50:17.072488Z",
     "shell.execute_reply": "2023-06-06T05:50:17.071514Z",
     "shell.execute_reply.started": "2023-06-06T05:50:17.063377Z"
    },
    "trusted": true
   },
   "outputs": [],
   "source": [
    "import yaml\n",
    "#some_dict = {'a': 1, 'b': 2}\n",
    "\n",
    "with open(r'smart_yaml.yaml', 'w') as file:\n",
    "    doc = yaml.dump(smart_yaml,file)\n"
   ]
  },
  {
   "cell_type": "code",
   "execution_count": null,
   "metadata": {
    "execution": {
     "iopub.execute_input": "2023-06-06T05:50:19.201744Z",
     "iopub.status.busy": "2023-06-06T05:50:19.201091Z",
     "iopub.status.idle": "2023-06-06T05:50:19.207269Z",
     "shell.execute_reply": "2023-06-06T05:50:19.206115Z",
     "shell.execute_reply.started": "2023-06-06T05:50:19.201706Z"
    },
    "trusted": true
   },
   "outputs": [],
   "source": [
    "data = '/kaggle/working/Theme1_new_data'\n",
    "data_img = '/kaggle/working/Theme1_new_data/images'\n",
    "data_labels = '/kaggle/working/Theme1_new_data/labels'\n",
    "data_img_train = '/kaggle/working/Theme1_new_data/images/train'\n",
    "data_img_val = '/kaggle/working/Theme1_new_data/images/validation'\n",
    "data_label_train = '/kaggle/working/Theme1_new_data/labels/train'\n",
    "data_label_val  = '/kaggle/working/Theme1_new_data/labels/validation'"
   ]
  },
  {
   "cell_type": "code",
   "execution_count": null,
   "metadata": {
    "execution": {
     "iopub.execute_input": "2023-06-06T05:50:24.786058Z",
     "iopub.status.busy": "2023-06-06T05:50:24.785624Z",
     "iopub.status.idle": "2023-06-06T05:50:24.812320Z",
     "shell.execute_reply": "2023-06-06T05:50:24.810903Z",
     "shell.execute_reply.started": "2023-06-06T05:50:24.786026Z"
    },
    "trusted": true
   },
   "outputs": [],
   "source": [
    "train_df.head(5)"
   ]
  },
  {
   "cell_type": "code",
   "execution_count": null,
   "metadata": {
    "execution": {
     "iopub.execute_input": "2023-06-06T05:50:25.050822Z",
     "iopub.status.busy": "2023-06-06T05:50:25.050351Z",
     "iopub.status.idle": "2023-06-06T05:50:29.199179Z",
     "shell.execute_reply": "2023-06-06T05:50:29.197808Z",
     "shell.execute_reply.started": "2023-06-06T05:50:25.050785Z"
    },
    "trusted": true
   },
   "outputs": [],
   "source": [
    "!git clone https://github.com/ultralytics/yolov5"
   ]
  },
  {
   "cell_type": "code",
   "execution_count": null,
   "metadata": {
    "execution": {
     "iopub.execute_input": "2023-06-06T05:50:29.202048Z",
     "iopub.status.busy": "2023-06-06T05:50:29.201617Z",
     "iopub.status.idle": "2023-06-06T05:50:29.211408Z",
     "shell.execute_reply": "2023-06-06T05:50:29.209483Z",
     "shell.execute_reply.started": "2023-06-06T05:50:29.202010Z"
    },
    "trusted": true
   },
   "outputs": [],
   "source": [
    "%cd yolov5"
   ]
  },
  {
   "cell_type": "code",
   "execution_count": null,
   "metadata": {
    "trusted": true
   },
   "outputs": [],
   "source": [
    "yaml_dir = '/kaggle/working/smart_yaml.yaml'"
   ]
  },
  {
   "cell_type": "code",
   "execution_count": null,
   "metadata": {
    "execution": {
     "iopub.execute_input": "2023-06-06T05:50:29.213740Z",
     "iopub.status.busy": "2023-06-06T05:50:29.213292Z",
     "iopub.status.idle": "2023-06-06T05:50:48.860167Z",
     "shell.execute_reply": "2023-06-06T05:50:48.858465Z",
     "shell.execute_reply.started": "2023-06-06T05:50:29.213703Z"
    },
    "trusted": true
   },
   "outputs": [],
   "source": [
    "!pip install ultralytics\n"
   ]
  },
  {
   "cell_type": "code",
   "execution_count": null,
   "metadata": {
    "trusted": true
   },
   "outputs": [],
   "source": [
    "# with open('/kaggle/working/output_file.pkl', 'rb') as fin:\n",
    "#     new_dict = pkl.load(fin)\n",
    "!python /kaggle/working/yolov5/train.py --img 640 --cfg /kaggle/working/yolov5/models/yolov5s.yaml  --batch 16 --epochs 5 --data /kaggle/working/smart_yaml.yaml --weights yolov5s.pt --workers 24 \n"
   ]
  },
  {
   "cell_type": "markdown",
   "metadata": {},
   "source": [
    "**RESULTS**"
   ]
  },
  {
   "cell_type": "code",
   "execution_count": null,
   "metadata": {
    "trusted": true
   },
   "outputs": [],
   "source": [
    "import torch\n",
    "os.listdir(\"runs/train/exp/weights\")\n",
    "model_weights = 'runs/train/exp/weights/best.pt'"
   ]
  },
  {
   "cell_type": "code",
   "execution_count": null,
   "metadata": {
    "trusted": true
   },
   "outputs": [],
   "source": [
    "test_paths = '/kaggle/input/smartathon-theme-1-with-yolov5-new/Theme1_new_data/images/test'\n",
    "# os.listdir(test_paths)\n",
    "!python detect.py --weights runs/train/exp/weights/best.pt  --source /kaggle/input/smartathon-theme-1-with-yolov5-new/Theme1_new_data_FCNN/test --save-txt\n",
    "results = \"/kaggle/working/yolov5/runs/detect/exp/labels/\""
   ]
  },
  {
   "cell_type": "code",
   "execution_count": null,
   "metadata": {},
   "outputs": [],
   "source": [
    "diction = {\"0\":\"GRAFFITI\",\"1\":\"FADED SIGNAGE\",\"2\":\"POTHOLES\",\"3\":\"GARBAGE\",\"4\":\"CONSTRUCTION ROAD\",\"5\":\"BROKEN_SIGNAGE\",\"6\":\"BAD STREETLIGHT\",\"7\":\"BAD BILLBOARD\",\"8\":\"SAND ON ROAD\",\"9\":\"CLUTTER_SIDEWALK\",\"10\":\"UNKEPT_FACADE\" }\n",
    "len(os.listdir(\"/kaggle/working/yolov5/runs/detect/exp2/labels/\"))\n",
    "test_df['image_path']\n",
    "ans = [[\"class\", \"image_path\", \"name\", \"xmax\", \"xmin\", \"ymax\", \"ymin\"]]"
   ]
  },
  {
   "cell_type": "code",
   "execution_count": null,
   "metadata": {},
   "outputs": [],
   "source": [
    "for dirname, _, filenames in os.walk(\"/kaggle/working/yolov5/runs/detect/exp2/labels/\"):\n",
    "    for filename in filenames:\n",
    "        i = 0\n",
    "        lst = []\n",
    "        image_id = filename[:-4]+\".jpg\"\n",
    "        with open(results+filename, 'r') as f:\n",
    "            data = f.readline()\n",
    "            data = data.split(\" \")\n",
    "            tst = (\" \").join(data)\n",
    "            tst = tst[:-1]\n",
    "            xmax = int((float(data[1])+(float(data[3])/2))*1920)\n",
    "            xmin = int((float(data[1])-(float(data[3])/2))*1920)\n",
    "            ymax = int((float(data[2])+(float(data[4])/2))*1080)\n",
    "            ymin = int((float(data[2])-(float(data[4])/2))*1080)\n",
    "            ans.append([data[0], image_id, (diction[(tst[0])]),xmax,xmin,ymax, ymin])"
   ]
  },
  {
   "cell_type": "code",
   "execution_count": null,
   "metadata": {},
   "outputs": [],
   "source": [
    "final = pd.DataFrame(ans[1:],columns=ans[0])\n",
    "final.head()"
   ]
  },
  {
   "cell_type": "code",
   "execution_count": null,
   "metadata": {},
   "outputs": [],
   "source": [
    "final"
   ]
  },
  {
   "cell_type": "code",
   "execution_count": null,
   "metadata": {},
   "outputs": [],
   "source": [
    "final.to_csv('myans.csv',index =False)"
   ]
  }
 ],
 "metadata": {
  "kernelspec": {
   "display_name": "Python 3",
   "language": "python",
   "name": "python3"
  },
  "language_info": {
   "codemirror_mode": {
    "name": "ipython",
    "version": 3
   },
   "file_extension": ".py",
   "mimetype": "text/x-python",
   "name": "python",
   "nbconvert_exporter": "python",
   "pygments_lexer": "ipython3",
   "version": "3.12.0"
  }
 },
 "nbformat": 4,
 "nbformat_minor": 4
}
